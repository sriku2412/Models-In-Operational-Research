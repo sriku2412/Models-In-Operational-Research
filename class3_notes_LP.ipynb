{
 "cells": [
  {
   "cell_type": "markdown",
   "metadata": {},
   "source": [
    "### Class Practrice question : \n",
    "**Two products: Chairs and Tables**\n",
    "\n",
    "- **Decision:** How many of each to make this month?\n",
    "- **Objective:** Maximize profit\n",
    "\n",
    "| Product | Profit Contribution | Hours Available |\n",
    "|---------|---------------------|-----------------|\n",
    "| Tables  | $7                  | 3 hrs carpentry, 2 hrs painting |\n",
    "| Chairs  | $5                  | 4 hrs carpentry, 1 hr painting  |\n",
    "\n",
    "**Restrictions:**\n",
    "- Make no more than 450 chairs and at least 100 tables\n"
   ]
  },
  {
   "cell_type": "code",
   "execution_count": 22,
   "metadata": {},
   "outputs": [
    {
     "name": "stdout",
     "output_type": "stream",
     "text": [
      "Gurobi Optimizer version 11.0.0 build v11.0.0rc2 (win64 - Windows 11+.0 (22635.2))\n",
      "\n",
      "CPU model: 12th Gen Intel(R) Core(TM) i7-1260P, instruction set [SSE2|AVX|AVX2]\n",
      "Thread count: 12 physical cores, 16 logical processors, using up to 16 threads\n",
      "\n",
      "Optimize a model with 2 rows, 2 columns and 4 nonzeros\n",
      "Model fingerprint: 0xd981af52\n",
      "Coefficient statistics:\n",
      "  Matrix range     [1e+00, 4e+00]\n",
      "  Objective range  [5e+00, 7e+00]\n",
      "  Bounds range     [1e+02, 5e+02]\n",
      "  RHS range        [1e+03, 2e+03]\n",
      "Presolve time: 0.00s\n",
      "Presolved: 2 rows, 2 columns, 4 nonzeros\n",
      "\n",
      "Iteration    Objective       Primal Inf.    Dual Inf.      Time\n",
      "       0    2.8000000e+31   1.750000e+30   2.800000e+01      0s\n",
      "       2    4.0400000e+03   0.000000e+00   0.000000e+00      0s\n",
      "\n",
      "Solved in 2 iterations and 0.01 seconds (0.00 work units)\n",
      "Optimal objective  4.040000000e+03\n",
      "Objective value: 4040.0\n",
      "[<gurobi.Var Tables (value 320.0)>, <gurobi.Var Chairs[0] (value 360.0)>]\n"
     ]
    }
   ],
   "source": [
    "import gurobipy as gb\n",
    "from gurobipy import GRB\n",
    "\n",
    "# Create a new model\n",
    "m = gb.Model(\"Class 3 Notes:Q1\")\n",
    "\n",
    "# Create variables\n",
    "t = m.addVar(vtype=GRB.CONTINUOUS, name=\"Tables\", lb=100)\n",
    "c = m.addVars(1, vtype=GRB.CONTINUOUS, name=\"Chairs\", lb=0, ub=450)\n",
    "\n",
    "m.setObjective(7 * t + 5 * c[0], GRB.MAXIMIZE)\n",
    "\n",
    "# Add constraints\n",
    "Carpenter = m.addConstr(3 * t + 4 * c[0] <= 2400, \"Carpenter hours\")\n",
    "Painting = m.addConstr(2 * t + 1 * c[0] <= 1000, \"Painting hours\")\n",
    "\n",
    "m.optimize()\n",
    "print(\"Objective value:\", m.objVal)\n",
    "print(m.getVars())"
   ]
  },
  {
   "cell_type": "code",
   "execution_count": 23,
   "metadata": {},
   "outputs": [
    {
     "name": "stdout",
     "output_type": "stream",
     "text": [
      "Gurobi Optimizer version 11.0.0 build v11.0.0rc2 (win64 - Windows 11+.0 (22635.2))\n",
      "\n",
      "CPU model: 12th Gen Intel(R) Core(TM) i7-1260P, instruction set [SSE2|AVX|AVX2]\n",
      "Thread count: 12 physical cores, 16 logical processors, using up to 16 threads\n",
      "\n",
      "Optimize a model with 2 rows, 2 columns and 4 nonzeros\n",
      "Coefficient statistics:\n",
      "  Matrix range     [1e+00, 4e+00]\n",
      "  Objective range  [5e+00, 8e+00]\n",
      "  Bounds range     [1e+02, 5e+02]\n",
      "  RHS range        [1e+03, 2e+03]\n",
      "LP warm-start: use basis\n",
      "Iteration    Objective       Primal Inf.    Dual Inf.      Time\n",
      "       0    4.3600000e+03   0.000000e+00   0.000000e+00      0s\n",
      "\n",
      "Solved in 0 iterations and 0.01 seconds (0.00 work units)\n",
      "Optimal objective  4.360000000e+03\n",
      "[<gurobi.Var Tables (value 320.0)>, <gurobi.Var Chairs[0] (value 360.0)>]\n"
     ]
    }
   ],
   "source": [
    "# What if the profit contribution for tables is changed from $𝟕to $𝟖per table?\n",
    "m.setObjective(8 * t + 5 * c[0], GRB.MAXIMIZE)\n",
    "m.update()\n",
    "m.optimize()\n",
    "print(m.getVars())"
   ]
  },
  {
   "cell_type": "markdown",
   "metadata": {},
   "source": [
    "observation :the result is same"
   ]
  },
  {
   "cell_type": "code",
   "execution_count": 31,
   "metadata": {},
   "outputs": [
    {
     "name": "stdout",
     "output_type": "stream",
     "text": [
      "10.0 3.75\n"
     ]
    }
   ],
   "source": [
    "# range of optimality values for Objective coefficients\n",
    "print(t.SAObjUp, t.SAObjLow)"
   ]
  },
  {
   "cell_type": "code",
   "execution_count": 32,
   "metadata": {},
   "outputs": [
    {
     "data": {
      "text/plain": [
       "0.0"
      ]
     },
     "execution_count": 32,
     "metadata": {},
     "output_type": "execute_result"
    }
   ],
   "source": [
    "c[0].RC # reduction cost"
   ]
  },
  {
   "cell_type": "code",
   "execution_count": 33,
   "metadata": {},
   "outputs": [
    {
     "data": {
      "text/plain": [
       "1600.0"
      ]
     },
     "execution_count": 33,
     "metadata": {},
     "output_type": "execute_result"
    }
   ],
   "source": [
    "Painting.SARHSUp"
   ]
  },
  {
   "cell_type": "markdown",
   "metadata": {},
   "source": [
    "### Practice proiblem 1:\n",
    "Margaret Schlass is an American farmer with 500 acres of land who specializes in growing certified organic crops. She has a three-plant rotation: oats, maize, and soybean. Each winter, Margaret decides how much land to devote to each crop. At least 200 tons of oats and 260 tons of maize are needed for cattle feed. These amounts can also be bought from other farms. She can also sell what she grows. Over the last decade, the mean selling prices of oats and maize have been $220 and $260 per ton. Purchase prices are 20% more due to transportation and shipping costs. The selling price of Soybean is $55 per ton. However, the US Department of Agriculture has imposed a quota of 7000 tons. Soybean sold in excess of this quota are priced at $26 per ton.\n",
    "\n",
    "| Crop    | Purchase Price (Per Ton) | Mean Selling Price Below Quota (Per Ton) | Mean Selling Price Above Quota (Per Ton) |\n",
    "|---------|---------------------------|------------------------------------------|-----------------------------------------|\n",
    "| Oats    | $264                      | $220                                     | -                                       |\n",
    "| Maize   | $312                      | $260                                     | -                                       |\n",
    "| Soybean | -                         | $55                                      | $26                                     |\n",
    "\n",
    "Over the last 10 years, Margaret has kept logs for the mean yield per acre. She expects to get 4.25 tons per acre for oats, 3.0 tons per acre for maize, and 20 tons per acre for soybean.\n",
    "\n",
    "How much land should Margaret devote to each crop to maximize her expected profits while also ensuring that she has enough food to feed her cattle?"
   ]
  },
  {
   "cell_type": "code",
   "execution_count": 34,
   "metadata": {},
   "outputs": [
    {
     "name": "stdout",
     "output_type": "stream",
     "text": [
      "Gurobi Optimizer version 11.0.0 build v11.0.0rc2 (win64 - Windows 11+.0 (22635.2))\n",
      "\n",
      "CPU model: 12th Gen Intel(R) Core(TM) i7-1260P, instruction set [SSE2|AVX|AVX2]\n",
      "Thread count: 12 physical cores, 16 logical processors, using up to 16 threads\n",
      "\n",
      "Optimize a model with 5 rows, 9 columns and 13 nonzeros\n",
      "Model fingerprint: 0x5d884ad9\n",
      "Coefficient statistics:\n",
      "  Matrix range     [1e+00, 2e+01]\n",
      "  Objective range  [3e+01, 3e+02]\n",
      "  Bounds range     [0e+00, 0e+00]\n",
      "  RHS range        [2e+02, 7e+03]\n",
      "Presolve removed 2 rows and 2 columns\n",
      "Presolve time: 0.01s\n",
      "Presolved: 3 rows, 7 columns, 9 nonzeros\n",
      "\n",
      "Iteration    Objective       Primal Inf.    Dual Inf.      Time\n",
      "       0    7.6800000e+33   2.000000e+30   7.680000e+03      0s\n",
      "       4    4.0021667e+05   0.000000e+00   0.000000e+00      0s\n",
      "\n",
      "Solved in 4 iterations and 0.01 seconds (0.00 work units)\n",
      "Optimal objective  4.002166667e+05\n"
     ]
    }
   ],
   "source": [
    "m = gb.Model(\"Class 3 Notes:Q2\")\n",
    "\n",
    "x = m.addVars(3, vtype=GRB.CONTINUOUS, name=\"acres of land for each crop\", lb=0)\n",
    "y = m.addVars(2, vtype=GRB.CONTINUOUS, name=\"purchase of crop\", lb=0)\n",
    "w = m.addVars(4, vtype=GRB.CONTINUOUS, name=\"number of crops sold\", lb=0)\n",
    "\n",
    "m.setObjective(220 * w[0] + 260 * w[1] + 55 * w[2] + 26 * w[3]-264 * y[0] - 312 * y[1], GRB.MAXIMIZE)\n",
    "\n",
    "land = m.addConstr(x[0] + x[1] + x[2] <= 500, \"land constraint\")\n",
    "feed_oats = m.addConstr(4.25 * x[0]+y[0]-w[0] >= 200, \"feed oats\")\n",
    "feed_maize = m.addConstr(3.0 * x[1]+y[1]-w[1] >= 260, \"feed maize\")\n",
    "soya = m.addConstr(w[2] + w[3] == 20 * x[2], \"soya production\")\n",
    "sell = m.addConstr(w[2]<= 7000 ,'selling price')\n",
    "\n",
    "m.optimize()\n",
    "\n"
   ]
  },
  {
   "cell_type": "markdown",
   "metadata": {},
   "source": [
    "any problem can be represented in its dual form using : \n",
    "| Primal                                |     | Dual                                  |\n",
    "| ------------------------------------- | --- | ------------------------------------- |\n",
    "| Max                                   | ↔️  | Min                                   |\n",
    "| \\( \\sum_{j} a_{ij}x_{j} \\leq b_{i} \\) | ↔️  | \\( y_{i} \\geq 0 \\)                    |\n",
    "| \\( \\sum_{j} a_{ij}x_{j} \\geq b_{i} \\) | ↔️  | \\( y_{i} \\leq 0 \\)                    |\n",
    "| \\( \\sum_{j} a_{ij}x_{j} = b_{i} \\)    | ↔️  | \\( y_{i} \\geq 0 \\)                    |\n",
    "| \\( x_{j} \\geq 0 \\)                    | ↔️  | \\( \\sum_{i} a_{ij}y_{i} \\geq c_{j} \\) |\n",
    "| \\( x_{j} \\leq 0 \\)                    | ↔️  | \\( \\sum_{i} a_{ij}y_{i} \\leq c_{j} \\) |\n",
    "| \\( x_{j} \\geq 0 \\)                    | ↔️  | \\( \\sum_{i} a_{ij}y_{i} = c_{j} \\)    |"
   ]
  },
  {
   "cell_type": "markdown",
   "metadata": {},
   "source": [
    "**Consider the following (primal) problem:**\n",
    "\n",
    "maximize :<br>\n",
    "𝑧=5𝑥1+4𝑥2<br>\n",
    "\n",
    "conditions :<br>\n",
    "𝑥1≤4 <br>\n",
    "𝑥1+2𝑥2≤13<br>\n",
    "5𝑥1+3𝑥2≤31<br>\n",
    "𝑥1≥0,𝑥2≥0<br>\n",
    "\n",
    "**The corresponding dual problem is:**\n",
    "\n",
    "minimize :<br>\n",
    "𝑧=4𝑦1+13𝑦2+31𝑦3<br>\n",
    "\n",
    "conditions :<br>\n",
    "𝑦1+𝑦2+5𝑦3≥5<br>\n",
    "2𝑦2+3𝑦3≥4<br>\n",
    "𝑦1≥0,𝑦2≥0,𝑦3≥0<br>"
   ]
  },
  {
   "cell_type": "markdown",
   "metadata": {},
   "source": [
    "1. We can create specialized computational algorithms\n",
    "(e.g., simplex algorithm versus dual simplex algorithm).\n",
    "\n",
    "2. A primal problem with many constraints and only a few\n",
    "variables can be converted into a dual problem with a\n",
    "few constraints and many variables. Fewer constraints\n",
    "requires fewer computations in the simplex method.\n",
    "\n",
    "3. It is the basis for obtaining (both analytically and\n",
    "computationally) solutions and algorithmic strategies for\n",
    "solving constrained nonlinear programming problems."
   ]
  }
 ],
 "metadata": {
  "kernelspec": {
   "display_name": "Python 3",
   "language": "python",
   "name": "python3"
  },
  "language_info": {
   "codemirror_mode": {
    "name": "ipython",
    "version": 3
   },
   "file_extension": ".py",
   "mimetype": "text/x-python",
   "name": "python",
   "nbconvert_exporter": "python",
   "pygments_lexer": "ipython3",
   "version": "3.11.8"
  }
 },
 "nbformat": 4,
 "nbformat_minor": 2
}
